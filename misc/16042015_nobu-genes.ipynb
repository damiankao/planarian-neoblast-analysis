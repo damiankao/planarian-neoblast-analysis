{
 "metadata": {
  "name": "",
  "signature": "sha256:4d1ac05b8d37ddaee4608e560b81705547b1aba4735c3413331d15ed155a4f39"
 },
 "nbformat": 3,
 "nbformat_minor": 0,
 "worksheets": [
  {
   "cells": [
    {
     "cell_type": "markdown",
     "metadata": {},
     "source": [
      "# X1/X2/X3 proportions\n",
      "\n",
      "14 sequences taken from planmine were blasted against the Oxford s.med transcriptome:\n",
      "\n",
      "    >SNAIL\n",
      "    >SNAIL-like\n",
      "    >Scratch\n",
      "    >Notch\n",
      "    >Delta\n",
      "    >Jagged1\n",
      "    >Jagged2\n",
      "    >Jagged3\n",
      "    >Zeb1\n",
      "    >Abl-1\n",
      "    >ITGAV\n",
      "    >GSK3beta-3\n",
      "    >FGFR1\n",
      "    >FGFR2\n",
      "    \n",
      "12 sequences had a hit with e"
     ]
    },
    {
     "cell_type": "code",
     "collapsed": false,
     "input": [
      "import gzip, os, sys\n",
      "#import custom functions for displaying tables, bash commands\n",
      "sys.path.append(os.path.abspath(\"/home/damian/\"))\n",
      "from dk_ipython import *\n",
      "from IPython.display import HTML\n",
      "import pandas as pd\n",
      "import seaborn as sns\n",
      "import matplotlib.pyplot as plt\n",
      "import scipy.stats as ss\n",
      "import scipy as sp\n",
      "\n",
      "%matplotlib inline\n",
      "HTML(addToggle())"
     ],
     "language": "python",
     "metadata": {},
     "outputs": [
      {
       "html": [
        "<script>\n",
        "code_show=true;\n",
        "function code_toggle() {\n",
        " if (code_show){\n",
        " $('div.input').hide();\n",
        " } else {\n",
        " $('div.input').show();\n",
        " }\n",
        " code_show = !code_show\n",
        "}\n",
        "\n",
        "$( document ).ready(code_toggle);\n",
        "</script>\n",
        "The raw code for this IPython notebook is by default hidden for easier reading.\n",
        "To toggle on/off the raw code, click <a href=\"javascript:code_toggle()\">here</a>."
       ],
       "metadata": {},
       "output_type": "pyout",
       "prompt_number": 1,
       "text": [
        "<IPython.core.display.HTML at 0x2f017d0>"
       ]
      }
     ],
     "prompt_number": 1
    },
    {
     "cell_type": "code",
     "collapsed": false,
     "input": [
      "prefix = '/home/share/projects/smed_neoblast/'\n",
      "blastFile = open(prefix + 'misc/blast.out')\n",
      "tophit = {}\n",
      "for line in blastFile:\n",
      "    meta = line.strip().split()\n",
      "    if not tophit.has_key(meta[0]):\n",
      "        tophit[meta[0]] = meta[1]\n",
      "        \n",
      "tophit = dict([[v,k] for k,v in tophit.items()])\n",
      "\n",
      "blastFile.close()\n",
      "\n",
      "propFile = open(prefix + 'analysis/transcript.proportions')\n",
      "\n",
      "propTable = ListTable()\n",
      "propTable.append(['gene','ox ID','X1','X2','X3'])\n",
      "for line in propFile:\n",
      "    meta = line.strip().split('\\t')\n",
      "    if tophit.has_key(meta[0]):\n",
      "        propTable.append([tophit[meta[0]], meta[0], meta[1], meta[2], meta[3]])\n",
      "\n",
      "propFile.close()\n",
      "propTable"
     ],
     "language": "python",
     "metadata": {},
     "outputs": [
      {
       "html": [
        "<table style='font-size:12px'><tr style='font-weight:bold'><td style='padding:4px 15px 4px 15px;border-color:white;text-align:center'>gene</td><td style='padding:4px 15px 4px 15px;border-color:white;text-align:center'>ox ID</td><td style='padding:4px 15px 4px 15px;border-color:white;text-align:center'>X1</td><td style='padding:4px 15px 4px 15px;border-color:white;text-align:center'>X2</td><td style='padding:4px 15px 4px 15px;border-color:white;text-align:center'>X3</td></tr><tr style='background:#E8E8E8'><td style='padding:4px 15px 4px 15px;border-color:#B0B0B0;text-align:center'>Scratch</td><td style='padding:4px 15px 4px 15px;border-color:#B0B0B0;text-align:center'>OX_Smed_1.0.12595</td><td style='padding:4px 15px 4px 15px;border-color:#B0B0B0;text-align:center'>0.615687375562</td><td style='padding:4px 15px 4px 15px;border-color:#B0B0B0;text-align:center'>0.235371785782</td><td style='padding:4px 15px 4px 15px;border-color:#B0B0B0;text-align:center'>0.148940838656</td></tr><tr style='background:white'><td style='padding:4px 15px 4px 15px;border-color:#B0B0B0;text-align:center'>FGFR1</td><td style='padding:4px 15px 4px 15px;border-color:#B0B0B0;text-align:center'>OX_Smed_1.0.22012</td><td style='padding:4px 15px 4px 15px;border-color:#B0B0B0;text-align:center'>0.439520704011</td><td style='padding:4px 15px 4px 15px;border-color:#B0B0B0;text-align:center'>0.352270014071</td><td style='padding:4px 15px 4px 15px;border-color:#B0B0B0;text-align:center'>0.208209281918</td></tr><tr style='background:#E8E8E8'><td style='padding:4px 15px 4px 15px;border-color:#B0B0B0;text-align:center'>GSK3beta-3</td><td style='padding:4px 15px 4px 15px;border-color:#B0B0B0;text-align:center'>OX_Smed_1.0.04550</td><td style='padding:4px 15px 4px 15px;border-color:#B0B0B0;text-align:center'>0.382142380009</td><td style='padding:4px 15px 4px 15px;border-color:#B0B0B0;text-align:center'>0.395347977568</td><td style='padding:4px 15px 4px 15px;border-color:#B0B0B0;text-align:center'>0.222509642423</td></tr><tr style='background:white'><td style='padding:4px 15px 4px 15px;border-color:#B0B0B0;text-align:center'>SNAIL-like</td><td style='padding:4px 15px 4px 15px;border-color:#B0B0B0;text-align:center'>OX_Smed_1.0.16057</td><td style='padding:4px 15px 4px 15px;border-color:#B0B0B0;text-align:center'>0.316119397231</td><td style='padding:4px 15px 4px 15px;border-color:#B0B0B0;text-align:center'>0.31629802838</td><td style='padding:4px 15px 4px 15px;border-color:#B0B0B0;text-align:center'>0.36758257439</td></tr><tr style='background:#E8E8E8'><td style='padding:4px 15px 4px 15px;border-color:#B0B0B0;text-align:center'>FGFR2</td><td style='padding:4px 15px 4px 15px;border-color:#B0B0B0;text-align:center'>OX_Smed_1.0.13966</td><td style='padding:4px 15px 4px 15px;border-color:#B0B0B0;text-align:center'>0.252916630147</td><td style='padding:4px 15px 4px 15px;border-color:#B0B0B0;text-align:center'>0.341354166413</td><td style='padding:4px 15px 4px 15px;border-color:#B0B0B0;text-align:center'>0.40572920344</td></tr><tr style='background:white'><td style='padding:4px 15px 4px 15px;border-color:#B0B0B0;text-align:center'>Zeb1</td><td style='padding:4px 15px 4px 15px;border-color:#B0B0B0;text-align:center'>OX_Smed_1.0.09564</td><td style='padding:4px 15px 4px 15px;border-color:#B0B0B0;text-align:center'>0.264293662893</td><td style='padding:4px 15px 4px 15px;border-color:#B0B0B0;text-align:center'>0.34384858316</td><td style='padding:4px 15px 4px 15px;border-color:#B0B0B0;text-align:center'>0.391857753947</td></tr><tr style='background:#E8E8E8'><td style='padding:4px 15px 4px 15px;border-color:#B0B0B0;text-align:center'>Notch</td><td style='padding:4px 15px 4px 15px;border-color:#B0B0B0;text-align:center'>OX_Smed_1.0.02117</td><td style='padding:4px 15px 4px 15px;border-color:#B0B0B0;text-align:center'>0.172778672529</td><td style='padding:4px 15px 4px 15px;border-color:#B0B0B0;text-align:center'>0.431416133635</td><td style='padding:4px 15px 4px 15px;border-color:#B0B0B0;text-align:center'>0.395805193836</td></tr><tr style='background:white'><td style='padding:4px 15px 4px 15px;border-color:#B0B0B0;text-align:center'>Abl-1</td><td style='padding:4px 15px 4px 15px;border-color:#B0B0B0;text-align:center'>OX_Smed_1.0.15582</td><td style='padding:4px 15px 4px 15px;border-color:#B0B0B0;text-align:center'>0.241268422851</td><td style='padding:4px 15px 4px 15px;border-color:#B0B0B0;text-align:center'>0.411771764439</td><td style='padding:4px 15px 4px 15px;border-color:#B0B0B0;text-align:center'>0.34695981271</td></tr><tr style='background:#E8E8E8'><td style='padding:4px 15px 4px 15px;border-color:#B0B0B0;text-align:center'>ITGAV</td><td style='padding:4px 15px 4px 15px;border-color:#B0B0B0;text-align:center'>OX_Smed_1.0.05632</td><td style='padding:4px 15px 4px 15px;border-color:#B0B0B0;text-align:center'>0.221402773723</td><td style='padding:4px 15px 4px 15px;border-color:#B0B0B0;text-align:center'>0.301047491739</td><td style='padding:4px 15px 4px 15px;border-color:#B0B0B0;text-align:center'>0.477549734539</td></tr><tr style='background:white'><td style='padding:4px 15px 4px 15px;border-color:#B0B0B0;text-align:center'>Delta</td><td style='padding:4px 15px 4px 15px;border-color:#B0B0B0;text-align:center'>OX_Smed_1.0.22590</td><td style='padding:4px 15px 4px 15px;border-color:#B0B0B0;text-align:center'>0.0928385541116</td><td style='padding:4px 15px 4px 15px;border-color:#B0B0B0;text-align:center'>0.344723867439</td><td style='padding:4px 15px 4px 15px;border-color:#B0B0B0;text-align:center'>0.562437578449</td></tr><tr style='background:#E8E8E8'><td style='padding:4px 15px 4px 15px;border-color:#B0B0B0;text-align:center'>SNAIL</td><td style='padding:4px 15px 4px 15px;border-color:#B0B0B0;text-align:center'>OX_Smed_1.0.00555</td><td style='padding:4px 15px 4px 15px;border-color:#B0B0B0;text-align:center'>0.0184483181204</td><td style='padding:4px 15px 4px 15px;border-color:#B0B0B0;text-align:center'>0.43631418332</td><td style='padding:4px 15px 4px 15px;border-color:#B0B0B0;text-align:center'>0.545237498559</td></tr><tr style='background:white'><td style='padding:4px 15px 4px 15px;border-color:#B0B0B0;text-align:center'>Jagged3</td><td style='padding:4px 15px 4px 15px;border-color:#B0B0B0;text-align:center'>OX_Smed_1.0.01232</td><td style='padding:4px 15px 4px 15px;border-color:#B0B0B0;text-align:center'>0.0307101949102</td><td style='padding:4px 15px 4px 15px;border-color:#B0B0B0;text-align:center'>0.533871285018</td><td style='padding:4px 15px 4px 15px;border-color:#B0B0B0;text-align:center'>0.435418520072</td></tr></table>"
       ],
       "metadata": {},
       "output_type": "pyout",
       "prompt_number": 9,
       "text": [
        "[['gene', 'ox ID', 'X1', 'X2', 'X3'],\n",
        " ['Scratch',\n",
        "  'OX_Smed_1.0.12595',\n",
        "  '0.615687375562',\n",
        "  '0.235371785782',\n",
        "  '0.148940838656'],\n",
        " ['FGFR1',\n",
        "  'OX_Smed_1.0.22012',\n",
        "  '0.439520704011',\n",
        "  '0.352270014071',\n",
        "  '0.208209281918'],\n",
        " ['GSK3beta-3',\n",
        "  'OX_Smed_1.0.04550',\n",
        "  '0.382142380009',\n",
        "  '0.395347977568',\n",
        "  '0.222509642423'],\n",
        " ['SNAIL-like',\n",
        "  'OX_Smed_1.0.16057',\n",
        "  '0.316119397231',\n",
        "  '0.31629802838',\n",
        "  '0.36758257439'],\n",
        " ['FGFR2',\n",
        "  'OX_Smed_1.0.13966',\n",
        "  '0.252916630147',\n",
        "  '0.341354166413',\n",
        "  '0.40572920344'],\n",
        " ['Zeb1',\n",
        "  'OX_Smed_1.0.09564',\n",
        "  '0.264293662893',\n",
        "  '0.34384858316',\n",
        "  '0.391857753947'],\n",
        " ['Notch',\n",
        "  'OX_Smed_1.0.02117',\n",
        "  '0.172778672529',\n",
        "  '0.431416133635',\n",
        "  '0.395805193836'],\n",
        " ['Abl-1',\n",
        "  'OX_Smed_1.0.15582',\n",
        "  '0.241268422851',\n",
        "  '0.411771764439',\n",
        "  '0.34695981271'],\n",
        " ['ITGAV',\n",
        "  'OX_Smed_1.0.05632',\n",
        "  '0.221402773723',\n",
        "  '0.301047491739',\n",
        "  '0.477549734539'],\n",
        " ['Delta',\n",
        "  'OX_Smed_1.0.22590',\n",
        "  '0.0928385541116',\n",
        "  '0.344723867439',\n",
        "  '0.562437578449'],\n",
        " ['SNAIL',\n",
        "  'OX_Smed_1.0.00555',\n",
        "  '0.0184483181204',\n",
        "  '0.43631418332',\n",
        "  '0.545237498559'],\n",
        " ['Jagged3',\n",
        "  'OX_Smed_1.0.01232',\n",
        "  '0.0307101949102',\n",
        "  '0.533871285018',\n",
        "  '0.435418520072']]"
       ]
      }
     ],
     "prompt_number": 9
    }
   ],
   "metadata": {}
  }
 ]
}