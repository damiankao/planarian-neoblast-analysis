{
 "metadata": {
  "name": "",
  "signature": "sha256:c9251a678859ad1953cb44410c86f82b3c9b8de0a581cc1474d4598fcd865e30"
 },
 "nbformat": 3,
 "nbformat_minor": 0,
 "worksheets": [
  {
   "cells": [
    {
     "cell_type": "markdown",
     "metadata": {},
     "source": [
      "# Trim raw Illumina reads\n",
      "\n",
      "Use trimmomatic to trim reads. Minimum length set at 50 for all libraries except Reddien's libraries which are set at 40 (Reddien's reads are 40 base reads).\n",
      "\n",
      "    java -jar /home/share/software/Trimmomatic-0.32/trimmomatic-0.32.jar PE -threads 3 -phred64 a.fastq.gz b.fastq.gz a.paired.trimmed.fastq.gz a.unpaired.trimmed.fastq.gz b.paired.trimmed.fastq.gz b.unpaired.trimmed.fastq.gz LEADING:30 TRAILING:30 MINLEN:50 "
     ]
    },
    {
     "cell_type": "code",
     "collapsed": false,
     "input": [
      "import gzip, os, sys\n",
      "#import custom functions for displaying tables, bash commands\n",
      "sys.path.append(os.path.abspath(\"/home/damian/\"))\n",
      "from dk_ipython import *\n",
      "from IPython.display import HTML"
     ],
     "language": "python",
     "metadata": {},
     "outputs": [],
     "prompt_number": 2
    },
    {
     "cell_type": "code",
     "collapsed": false,
     "input": [
      "prefix = '/home/share/projects/smed_neoblast/'\n",
      "fs = [x for x in os.listdir(prefix + 'reads') if x.split('.')[-1] == 'gz']\n",
      "\n",
      "trimCmdPEA = 'java -jar /home/share/software/Trimmomatic-0.32/trimmomatic-0.32.jar PE -threads 1 '\n",
      "trimCmdSEA = 'java -jar /home/share/software/Trimmomatic-0.32/trimmomatic-0.32.jar SE -threads 1 '\n",
      "trimCmdB = ' LEADING:30 TRAILING:30 MINLEN:50 ILLUMINACLIP:/home/share/software/Trimmomatic-0.32/adapters/adapters.fa:2:30:12:1:false TOPHRED33'\n",
      "trimCmds = ''\n",
      "\n",
      "from collections import defaultdict\n",
      "\n",
      "libs = defaultdict(list)\n",
      "for f in fs:\n",
      "    lib = '_'.join(f.split('_')[:2])\n",
      "    libs[lib].append(f)\n",
      "    \n",
      "for lib, f in libs.items():\n",
      "    f.sort()\n",
      "    phred = detectPhred(prefix + 'reads/' + f[0], 5000)\n",
      "    if phred == 'Sanger':\n",
      "        phred = '-phred33 '\n",
      "    else:\n",
      "        phred = '-phred64 '\n",
      "    if len(f) == 2:\n",
      "        a = prefix + 'reads/' + f[0]\n",
      "        b = prefix + 'reads/' + f[1]\n",
      "        trimCmds += trimCmdPEA + phred + a + ' ' + b + ' ' + \\\n",
      "        lib + '_1.paired.trimmed.fastq.gz ' + lib + '_1.unpaired.trimmed.fastq.gz ' + \\\n",
      "        lib + '_2.paired.trimmed.fastq.gz ' + lib + '_2.unpaired.trimmed.fastq.gz' + trimCmdB + '\\n'\n",
      "    else:\n",
      "        a = prefix + 'reads/' + f[0]\n",
      "        trimCmds += trimCmdSEA + phred + a + ' ' + lib + '_1.trimmed.fastq.gz' + trimCmdB + '\\n'\n",
      "        \n",
      "HTML(textarea('Trimmomatic commands',trimCmds))"
     ],
     "language": "python",
     "metadata": {},
     "outputs": [
      {
       "html": [
        "<b>Trimmomatic commands</b>:<br>\n",
        "<textarea style=\"width: 1000px; height:200px\">\n",
        "java -jar /home/share/software/Trimmomatic-0.32/trimmomatic-0.32.jar SE -threads 1 -phred64 /home/share/projects/smed_neoblast/reads/reddien_x1p1_1.fastq.gz reddien_x1p1_1.trimmed.fastq.gz LEADING:30 TRAILING:30 MINLEN:50 ILLUMINACLIP:/home/share/software/Trimmomatic-0.32/adapters/adapters.fa:2:30:12:1:false TOPHRED33\n",
        "java -jar /home/share/software/Trimmomatic-0.32/trimmomatic-0.32.jar SE -threads 1 -phred64 /home/share/projects/smed_neoblast/reads/reddien_x1p3_1.fastq.gz reddien_x1p3_1.trimmed.fastq.gz LEADING:30 TRAILING:30 MINLEN:50 ILLUMINACLIP:/home/share/software/Trimmomatic-0.32/adapters/adapters.fa:2:30:12:1:false TOPHRED33\n",
        "java -jar /home/share/software/Trimmomatic-0.32/trimmomatic-0.32.jar SE -threads 1 -phred64 /home/share/projects/smed_neoblast/reads/reddien_x1p2_1.fastq.gz reddien_x1p2_1.trimmed.fastq.gz LEADING:30 TRAILING:30 MINLEN:50 ILLUMINACLIP:/home/share/software/Trimmomatic-0.32/adapters/adapters.fa:2:30:12:1:false TOPHRED33\n",
        "java -jar /home/share/software/Trimmomatic-0.32/trimmomatic-0.32.jar PE -threads 1 -phred64 /home/share/projects/smed_neoblast/reads/rajewsky_x2_1.fastq.gz /home/share/projects/smed_neoblast/reads/rajewsky_x2_2.fastq.gz rajewsky_x2_1.paired.trimmed.fastq.gz rajewsky_x2_1.unpaired.trimmed.fastq.gz rajewsky_x2_2.paired.trimmed.fastq.gz rajewsky_x2_2.unpaired.trimmed.fastq.gz LEADING:30 TRAILING:30 MINLEN:50 ILLUMINACLIP:/home/share/software/Trimmomatic-0.32/adapters/adapters.fa:2:30:12:1:false TOPHRED33\n",
        "java -jar /home/share/software/Trimmomatic-0.32/trimmomatic-0.32.jar PE -threads 1 -phred64 /home/share/projects/smed_neoblast/reads/rajewsky_x3_1.fastq.gz /home/share/projects/smed_neoblast/reads/rajewsky_x3_2.fastq.gz rajewsky_x3_1.paired.trimmed.fastq.gz rajewsky_x3_1.unpaired.trimmed.fastq.gz rajewsky_x3_2.paired.trimmed.fastq.gz rajewsky_x3_2.unpaired.trimmed.fastq.gz LEADING:30 TRAILING:30 MINLEN:50 ILLUMINACLIP:/home/share/software/Trimmomatic-0.32/adapters/adapters.fa:2:30:12:1:false TOPHRED33\n",
        "java -jar /home/share/software/Trimmomatic-0.32/trimmomatic-0.32.jar PE -threads 1 -phred64 /home/share/projects/smed_neoblast/reads/rajewsky_x1_1.fastq.gz /home/share/projects/smed_neoblast/reads/rajewsky_x1_2.fastq.gz rajewsky_x1_1.paired.trimmed.fastq.gz rajewsky_x1_1.unpaired.trimmed.fastq.gz rajewsky_x1_2.paired.trimmed.fastq.gz rajewsky_x1_2.unpaired.trimmed.fastq.gz LEADING:30 TRAILING:30 MINLEN:50 ILLUMINACLIP:/home/share/software/Trimmomatic-0.32/adapters/adapters.fa:2:30:12:1:false TOPHRED33\n",
        "java -jar /home/share/software/Trimmomatic-0.32/trimmomatic-0.32.jar SE -threads 1 -phred64 /home/share/projects/smed_neoblast/reads/reddien_x1c3_1.fastq.gz reddien_x1c3_1.trimmed.fastq.gz LEADING:30 TRAILING:30 MINLEN:50 ILLUMINACLIP:/home/share/software/Trimmomatic-0.32/adapters/adapters.fa:2:30:12:1:false TOPHRED33\n",
        "java -jar /home/share/software/Trimmomatic-0.32/trimmomatic-0.32.jar SE -threads 1 -phred33 /home/share/projects/smed_neoblast/reads/graveley_x1_1.fastq.gz graveley_x1_1.trimmed.fastq.gz LEADING:30 TRAILING:30 MINLEN:50 ILLUMINACLIP:/home/share/software/Trimmomatic-0.32/adapters/adapters.fa:2:30:12:1:false TOPHRED33\n",
        "java -jar /home/share/software/Trimmomatic-0.32/trimmomatic-0.32.jar SE -threads 1 -phred33 /home/share/projects/smed_neoblast/reads/graveley_x3_1.fastq.gz graveley_x3_1.trimmed.fastq.gz LEADING:30 TRAILING:30 MINLEN:50 ILLUMINACLIP:/home/share/software/Trimmomatic-0.32/adapters/adapters.fa:2:30:12:1:false TOPHRED33\n",
        "java -jar /home/share/software/Trimmomatic-0.32/trimmomatic-0.32.jar SE -threads 1 -phred33 /home/share/projects/smed_neoblast/reads/graveley_x2_1.fastq.gz graveley_x2_1.trimmed.fastq.gz LEADING:30 TRAILING:30 MINLEN:50 ILLUMINACLIP:/home/share/software/Trimmomatic-0.32/adapters/adapters.fa:2:30:12:1:false TOPHRED33\n",
        "java -jar /home/share/software/Trimmomatic-0.32/trimmomatic-0.32.jar SE -threads 1 -phred64 /home/share/projects/smed_neoblast/reads/reddien_x1a2_1.fastq.gz reddien_x1a2_1.trimmed.fastq.gz LEADING:30 TRAILING:30 MINLEN:50 ILLUMINACLIP:/home/share/software/Trimmomatic-0.32/adapters/adapters.fa:2:30:12:1:false TOPHRED33\n",
        "java -jar /home/share/software/Trimmomatic-0.32/trimmomatic-0.32.jar SE -threads 1 -phred64 /home/share/projects/smed_neoblast/reads/reddien_x1a3_1.fastq.gz reddien_x1a3_1.trimmed.fastq.gz LEADING:30 TRAILING:30 MINLEN:50 ILLUMINACLIP:/home/share/software/Trimmomatic-0.32/adapters/adapters.fa:2:30:12:1:false TOPHRED33\n",
        "java -jar /home/share/software/Trimmomatic-0.32/trimmomatic-0.32.jar SE -threads 1 -phred64 /home/share/projects/smed_neoblast/reads/reddien_x1a1_1.fastq.gz reddien_x1a1_1.trimmed.fastq.gz LEADING:30 TRAILING:30 MINLEN:50 ILLUMINACLIP:/home/share/software/Trimmomatic-0.32/adapters/adapters.fa:2:30:12:1:false TOPHRED33\n",
        "java -jar /home/share/software/Trimmomatic-0.32/trimmomatic-0.32.jar PE -threads 1 -phred33 /home/share/projects/smed_neoblast/reads/pearson_x1_1.fastq.gz /home/share/projects/smed_neoblast/reads/pearson_x1_2.fastq.gz pearson_x1_1.paired.trimmed.fastq.gz pearson_x1_1.unpaired.trimmed.fastq.gz pearson_x1_2.paired.trimmed.fastq.gz pearson_x1_2.unpaired.trimmed.fastq.gz LEADING:30 TRAILING:30 MINLEN:50 ILLUMINACLIP:/home/share/software/Trimmomatic-0.32/adapters/adapters.fa:2:30:12:1:false TOPHRED33\n",
        "java -jar /home/share/software/Trimmomatic-0.32/trimmomatic-0.32.jar SE -threads 1 -phred64 /home/share/projects/smed_neoblast/reads/reddien_x1c1_1.fastq.gz reddien_x1c1_1.trimmed.fastq.gz LEADING:30 TRAILING:30 MINLEN:50 ILLUMINACLIP:/home/share/software/Trimmomatic-0.32/adapters/adapters.fa:2:30:12:1:false TOPHRED33\n",
        "java -jar /home/share/software/Trimmomatic-0.32/trimmomatic-0.32.jar SE -threads 1 -phred64 /home/share/projects/smed_neoblast/reads/reddien_x1c2_1.fastq.gz reddien_x1c2_1.trimmed.fastq.gz LEADING:30 TRAILING:30 MINLEN:50 ILLUMINACLIP:/home/share/software/Trimmomatic-0.32/adapters/adapters.fa:2:30:12:1:false TOPHRED33\n",
        "java -jar /home/share/software/Trimmomatic-0.32/trimmomatic-0.32.jar PE -threads 1 -phred33 /home/share/projects/smed_neoblast/reads/pearson_x2_1.fastq.gz /home/share/projects/smed_neoblast/reads/pearson_x2_2.fastq.gz pearson_x2_1.paired.trimmed.fastq.gz pearson_x2_1.unpaired.trimmed.fastq.gz pearson_x2_2.paired.trimmed.fastq.gz pearson_x2_2.unpaired.trimmed.fastq.gz LEADING:30 TRAILING:30 MINLEN:50 ILLUMINACLIP:/home/share/software/Trimmomatic-0.32/adapters/adapters.fa:2:30:12:1:false TOPHRED33\n",
        "java -jar /home/share/software/Trimmomatic-0.32/trimmomatic-0.32.jar PE -threads 1 -phred33 /home/share/projects/smed_neoblast/reads/pearson_x3_1.fastq.gz /home/share/projects/smed_neoblast/reads/pearson_x3_2.fastq.gz pearson_x3_1.paired.trimmed.fastq.gz pearson_x3_1.unpaired.trimmed.fastq.gz pearson_x3_2.paired.trimmed.fastq.gz pearson_x3_2.unpaired.trimmed.fastq.gz LEADING:30 TRAILING:30 MINLEN:50 ILLUMINACLIP:/home/share/software/Trimmomatic-0.32/adapters/adapters.fa:2:30:12:1:false TOPHRED33\n",
        "\n",
        "</textarea>"
       ],
       "metadata": {},
       "output_type": "pyout",
       "prompt_number": 16,
       "text": [
        "<IPython.core.display.HTML at 0x29511d0>"
       ]
      }
     ],
     "prompt_number": 16
    },
    {
     "cell_type": "code",
     "collapsed": false,
     "input": [
      "trimmLib = {}\n",
      "prev = ''\n",
      "trimmLog = open('/home/share/projects/smed_neoblast/trimmed/trim.err')\n",
      "for line in trimmLog:\n",
      "    if line.find('Started with arguments') != -1:\n",
      "        prev = line.strip().split('.fastq.gz')[0].split()[-1].split('/')[-1]\n",
      "    if line.find('Surviving') != -1:\n",
      "        meta = line.strip().split(':')\n",
      "        numReads = int(meta[1].split()[0])\n",
      "        keys = ['Reads'] + [meta[1].split()[-1]] + [' '.join(x.split()[2:]) for x in meta[2:-1]]\n",
      "        vals = [(numReads,100)] + [(int(x.split()[:2][0]),float(x.split()[:2][1][1:-2])) for x in meta[2:]]\n",
      "        kv = dict(zip(keys,vals))\n",
      "        trimmLib[prev] = kv\n",
      "\n",
      "trimmTable = ListTable()\n",
      "for k,v in trimmLib.items():\n",
      "    trimmTable.append([str(x) for x in [k,commas(v['Reads'][0]),v['Dropped'][1],v['Surviving'][1]]])\n",
      "    \n",
      "trimmTable.sort(key = lambda x:x[0])\n",
      "trimmTable.insert(0,['Library','Total fragments','Dropped(%)','Surviving(%)'])\n",
      "trimmTable"
     ],
     "language": "python",
     "metadata": {},
     "outputs": [
      {
       "html": [
        "<table style='font-size:12px'><tr style='font-weight:bold'><td style='padding:4px 15px 4px 15px;border-color:white;text-align:center'>Library</td><td style='padding:4px 15px 4px 15px;border-color:white;text-align:center'>Total fragments</td><td style='padding:4px 15px 4px 15px;border-color:white;text-align:center'>Dropped(%)</td><td style='padding:4px 15px 4px 15px;border-color:white;text-align:center'>Surviving(%)</td></tr><tr style='background:#E8E8E8'><td style='padding:4px 15px 4px 15px;border-color:#B0B0B0;text-align:center'>graveley_x1_1</td><td style='padding:4px 15px 4px 15px;border-color:#B0B0B0;text-align:center'>25,471,067</td><td style='padding:4px 15px 4px 15px;border-color:#B0B0B0;text-align:center'>3.73</td><td style='padding:4px 15px 4px 15px;border-color:#B0B0B0;text-align:center'>96.27</td></tr><tr style='background:white'><td style='padding:4px 15px 4px 15px;border-color:#B0B0B0;text-align:center'>graveley_x2_1</td><td style='padding:4px 15px 4px 15px;border-color:#B0B0B0;text-align:center'>25,378,801</td><td style='padding:4px 15px 4px 15px;border-color:#B0B0B0;text-align:center'>2.95</td><td style='padding:4px 15px 4px 15px;border-color:#B0B0B0;text-align:center'>97.05</td></tr><tr style='background:#E8E8E8'><td style='padding:4px 15px 4px 15px;border-color:#B0B0B0;text-align:center'>graveley_x3_1</td><td style='padding:4px 15px 4px 15px;border-color:#B0B0B0;text-align:center'>25,543,826</td><td style='padding:4px 15px 4px 15px;border-color:#B0B0B0;text-align:center'>3.07</td><td style='padding:4px 15px 4px 15px;border-color:#B0B0B0;text-align:center'>96.93</td></tr><tr style='background:white'><td style='padding:4px 15px 4px 15px;border-color:#B0B0B0;text-align:center'>pearson_x1_1</td><td style='padding:4px 15px 4px 15px;border-color:#B0B0B0;text-align:center'>21,917,357</td><td style='padding:4px 15px 4px 15px;border-color:#B0B0B0;text-align:center'>0.63</td><td style='padding:4px 15px 4px 15px;border-color:#B0B0B0;text-align:center'>71.52</td></tr><tr style='background:#E8E8E8'><td style='padding:4px 15px 4px 15px;border-color:#B0B0B0;text-align:center'>pearson_x2_1</td><td style='padding:4px 15px 4px 15px;border-color:#B0B0B0;text-align:center'>103,349,233</td><td style='padding:4px 15px 4px 15px;border-color:#B0B0B0;text-align:center'>7.98</td><td style='padding:4px 15px 4px 15px;border-color:#B0B0B0;text-align:center'>75.5</td></tr><tr style='background:white'><td style='padding:4px 15px 4px 15px;border-color:#B0B0B0;text-align:center'>pearson_x3_1</td><td style='padding:4px 15px 4px 15px;border-color:#B0B0B0;text-align:center'>20,805,822</td><td style='padding:4px 15px 4px 15px;border-color:#B0B0B0;text-align:center'>0.4</td><td style='padding:4px 15px 4px 15px;border-color:#B0B0B0;text-align:center'>92.55</td></tr><tr style='background:#E8E8E8'><td style='padding:4px 15px 4px 15px;border-color:#B0B0B0;text-align:center'>rajewsky_x1_1</td><td style='padding:4px 15px 4px 15px;border-color:#B0B0B0;text-align:center'>32,100,429</td><td style='padding:4px 15px 4px 15px;border-color:#B0B0B0;text-align:center'>1.91</td><td style='padding:4px 15px 4px 15px;border-color:#B0B0B0;text-align:center'>77.46</td></tr><tr style='background:white'><td style='padding:4px 15px 4px 15px;border-color:#B0B0B0;text-align:center'>rajewsky_x2_1</td><td style='padding:4px 15px 4px 15px;border-color:#B0B0B0;text-align:center'>34,363,267</td><td style='padding:4px 15px 4px 15px;border-color:#B0B0B0;text-align:center'>2.51</td><td style='padding:4px 15px 4px 15px;border-color:#B0B0B0;text-align:center'>77.68</td></tr><tr style='background:#E8E8E8'><td style='padding:4px 15px 4px 15px;border-color:#B0B0B0;text-align:center'>rajewsky_x3_1</td><td style='padding:4px 15px 4px 15px;border-color:#B0B0B0;text-align:center'>33,588,053</td><td style='padding:4px 15px 4px 15px;border-color:#B0B0B0;text-align:center'>2.41</td><td style='padding:4px 15px 4px 15px;border-color:#B0B0B0;text-align:center'>79.25</td></tr><tr style='background:white'><td style='padding:4px 15px 4px 15px;border-color:#B0B0B0;text-align:center'>reddien_x1a1_1</td><td style='padding:4px 15px 4px 15px;border-color:#B0B0B0;text-align:center'>21,340,545</td><td style='padding:4px 15px 4px 15px;border-color:#B0B0B0;text-align:center'>10.72</td><td style='padding:4px 15px 4px 15px;border-color:#B0B0B0;text-align:center'>89.28</td></tr><tr style='background:#E8E8E8'><td style='padding:4px 15px 4px 15px;border-color:#B0B0B0;text-align:center'>reddien_x1a2_1</td><td style='padding:4px 15px 4px 15px;border-color:#B0B0B0;text-align:center'>20,661,341</td><td style='padding:4px 15px 4px 15px;border-color:#B0B0B0;text-align:center'>10.84</td><td style='padding:4px 15px 4px 15px;border-color:#B0B0B0;text-align:center'>89.16</td></tr><tr style='background:white'><td style='padding:4px 15px 4px 15px;border-color:#B0B0B0;text-align:center'>reddien_x1a3_1</td><td style='padding:4px 15px 4px 15px;border-color:#B0B0B0;text-align:center'>19,544,455</td><td style='padding:4px 15px 4px 15px;border-color:#B0B0B0;text-align:center'>10.89</td><td style='padding:4px 15px 4px 15px;border-color:#B0B0B0;text-align:center'>89.11</td></tr><tr style='background:#E8E8E8'><td style='padding:4px 15px 4px 15px;border-color:#B0B0B0;text-align:center'>reddien_x1c1_1</td><td style='padding:4px 15px 4px 15px;border-color:#B0B0B0;text-align:center'>16,557,954</td><td style='padding:4px 15px 4px 15px;border-color:#B0B0B0;text-align:center'>17.71</td><td style='padding:4px 15px 4px 15px;border-color:#B0B0B0;text-align:center'>82.29</td></tr><tr style='background:white'><td style='padding:4px 15px 4px 15px;border-color:#B0B0B0;text-align:center'>reddien_x1c2_1</td><td style='padding:4px 15px 4px 15px;border-color:#B0B0B0;text-align:center'>24,698,002</td><td style='padding:4px 15px 4px 15px;border-color:#B0B0B0;text-align:center'>10.89</td><td style='padding:4px 15px 4px 15px;border-color:#B0B0B0;text-align:center'>89.11</td></tr><tr style='background:#E8E8E8'><td style='padding:4px 15px 4px 15px;border-color:#B0B0B0;text-align:center'>reddien_x1c3_1</td><td style='padding:4px 15px 4px 15px;border-color:#B0B0B0;text-align:center'>24,790,703</td><td style='padding:4px 15px 4px 15px;border-color:#B0B0B0;text-align:center'>10.45</td><td style='padding:4px 15px 4px 15px;border-color:#B0B0B0;text-align:center'>89.55</td></tr><tr style='background:white'><td style='padding:4px 15px 4px 15px;border-color:#B0B0B0;text-align:center'>reddien_x1p1_1</td><td style='padding:4px 15px 4px 15px;border-color:#B0B0B0;text-align:center'>17,915,423</td><td style='padding:4px 15px 4px 15px;border-color:#B0B0B0;text-align:center'>10.9</td><td style='padding:4px 15px 4px 15px;border-color:#B0B0B0;text-align:center'>89.1</td></tr><tr style='background:#E8E8E8'><td style='padding:4px 15px 4px 15px;border-color:#B0B0B0;text-align:center'>reddien_x1p2_1</td><td style='padding:4px 15px 4px 15px;border-color:#B0B0B0;text-align:center'>18,868,143</td><td style='padding:4px 15px 4px 15px;border-color:#B0B0B0;text-align:center'>10.77</td><td style='padding:4px 15px 4px 15px;border-color:#B0B0B0;text-align:center'>89.23</td></tr><tr style='background:white'><td style='padding:4px 15px 4px 15px;border-color:#B0B0B0;text-align:center'>reddien_x1p3_1</td><td style='padding:4px 15px 4px 15px;border-color:#B0B0B0;text-align:center'>20,213,456</td><td style='padding:4px 15px 4px 15px;border-color:#B0B0B0;text-align:center'>10.68</td><td style='padding:4px 15px 4px 15px;border-color:#B0B0B0;text-align:center'>89.32</td></tr></table>"
       ],
       "metadata": {},
       "output_type": "pyout",
       "prompt_number": 18,
       "text": [
        "[['Library', 'Total fragments', 'Dropped(%)', 'Surviving(%)'],\n",
        " ['graveley_x1_1', '25,471,067', '3.73', '96.27'],\n",
        " ['graveley_x2_1', '25,378,801', '2.95', '97.05'],\n",
        " ['graveley_x3_1', '25,543,826', '3.07', '96.93'],\n",
        " ['pearson_x1_1', '21,917,357', '0.63', '71.52'],\n",
        " ['pearson_x2_1', '103,349,233', '7.98', '75.5'],\n",
        " ['pearson_x3_1', '20,805,822', '0.4', '92.55'],\n",
        " ['rajewsky_x1_1', '32,100,429', '1.91', '77.46'],\n",
        " ['rajewsky_x2_1', '34,363,267', '2.51', '77.68'],\n",
        " ['rajewsky_x3_1', '33,588,053', '2.41', '79.25'],\n",
        " ['reddien_x1a1_1', '21,340,545', '10.72', '89.28'],\n",
        " ['reddien_x1a2_1', '20,661,341', '10.84', '89.16'],\n",
        " ['reddien_x1a3_1', '19,544,455', '10.89', '89.11'],\n",
        " ['reddien_x1c1_1', '16,557,954', '17.71', '82.29'],\n",
        " ['reddien_x1c2_1', '24,698,002', '10.89', '89.11'],\n",
        " ['reddien_x1c3_1', '24,790,703', '10.45', '89.55'],\n",
        " ['reddien_x1p1_1', '17,915,423', '10.9', '89.1'],\n",
        " ['reddien_x1p2_1', '18,868,143', '10.77', '89.23'],\n",
        " ['reddien_x1p3_1', '20,213,456', '10.68', '89.32']]"
       ]
      }
     ],
     "prompt_number": 18
    }
   ],
   "metadata": {}
  }
 ]
}