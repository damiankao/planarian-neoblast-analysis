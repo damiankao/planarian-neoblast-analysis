{
 "metadata": {
  "name": "",
  "signature": "sha256:e9edd57096ca0a119c53ca8acb6fe8e6707c204ddb1056225533ad2e140fc35d"
 },
 "nbformat": 3,
 "nbformat_minor": 0,
 "worksheets": [
  {
   "cells": [
    {
     "cell_type": "markdown",
     "metadata": {},
     "source": [
      "# Cluster neoblast transcripts with CAP3\n",
      "\n",
      "Use CAP3 to cluster neoblast transcripts:\n",
      "    \n",
      "    cap3 aboobaker.graveley.pearson.rajewsky.renamed.fa > cap3.out 2> cap3.err"
     ]
    },
    {
     "cell_type": "code",
     "collapsed": false,
     "input": [
      "import gzip, os, sys\n",
      "#import custom functions for displaying tables, bash commands\n",
      "sys.path.append(os.path.abspath(\"/home/damian/\"))\n",
      "from dk_ipython import *\n",
      "from IPython.display import HTML"
     ],
     "language": "python",
     "metadata": {},
     "outputs": [],
     "prompt_number": 2
    },
    {
     "cell_type": "code",
     "collapsed": false,
     "input": [
      "prefix = '/home/share/projects/smed_neoblast/cap3/'\n",
      "\n",
      "faFile = open(prefix + 'aboobaker.graveley.pearson.rajewsky.renamed.fa')\n",
      "\n",
      "from collections import defaultdict\n",
      "\n",
      "sourceKey = {'a':'Aboobaker','P':'Pearson','R':'Rajewsky','G':'Graveley'}\n",
      "sources = defaultdict(int)\n",
      "for line in faFile:\n",
      "    if line[0] == '>':\n",
      "        source = sourceKey[line[1]]\n",
      "        sources[source] += 1\n",
      "\n",
      "print 'Data sources used:'\n",
      "for source, count in sources.items():\n",
      "    print '  ' + source + ' - ' + commas(count) + ' transcripts'"
     ],
     "language": "python",
     "metadata": {},
     "outputs": [
      {
       "output_type": "stream",
       "stream": "stdout",
       "text": [
        "Data sources used:\n",
        "  Pearson - 2,147 transcripts\n",
        "  Graveley - 4,056 transcripts\n",
        "  Rajewsky - 7,696 transcripts\n",
        "  Aboobaker - 823 transcripts\n"
       ]
      }
     ],
     "prompt_number": 7
    },
    {
     "cell_type": "code",
     "collapsed": false,
     "input": [
      "inFile = open('/home/share/projects/smed_neoblast/cap3/cap3.out')\n",
      "\n",
      "clusters = []\n",
      "block = []\n",
      "used = defaultdict(int)\n",
      "for line in inFile:\n",
      "    if line.find('*******************') != -1:\n",
      "        break\n",
      "        \n",
      "for line in inFile:\n",
      "    if line.strip() == '':\n",
      "        break\n",
      "    if line.find('*******************') != -1:\n",
      "        if len(block) != 0:\n",
      "            block.sort()\n",
      "            aBlock = tuple(set(block))\n",
      "            if len(block) > 1:\n",
      "                for x in block:\n",
      "                    used[x] += 1\n",
      "                clusters.append(tuple(set(block)))\n",
      "        \n",
      "        block = []\n",
      "    else:\n",
      "        name = sourceKey[line.strip().split()[0][0]]\n",
      "        block.append(name)\n"
     ],
     "language": "python",
     "metadata": {},
     "outputs": [],
     "prompt_number": 62
    },
    {
     "cell_type": "code",
     "collapsed": false,
     "input": [
      "from collections import Counter\n",
      "\n",
      "clusterCount = Counter(clusters).items()\n",
      "clusterCount.sort(key = lambda x : x[1], reverse = True)\n",
      "\n",
      "comboTable = ListTable()\n",
      "comboHeader = ['Pearson','Graveley','Rajewsky','Aboobaker']\n",
      "comboTable.append(comboHeader + ['Number of clusters'])\n",
      "for combo, count in clusterCount:\n",
      "    row = []\n",
      "    for c in comboHeader:\n",
      "        if c in combo:\n",
      "            row.append('X')\n",
      "        else:\n",
      "            row.append('-')\n",
      "    row.append(count)\n",
      "    comboTable.append(row)\n",
      "    \n",
      "print 'Cluster compositions:'\n",
      "print '*Number of clusters total with members from at least 2 or more sources:', commas(len(clusters))\n",
      "print '*Number of clusters with the composition described in the row'\n",
      "print '*For example, there are 81 clusters containing at least one transcript from all 4 sources'\n",
      "comboTable"
     ],
     "language": "python",
     "metadata": {},
     "outputs": [
      {
       "output_type": "stream",
       "stream": "stdout",
       "text": [
        "Cluster compositions:\n",
        "*Number of clusters total with members from at least 2 or more sources: 2,577\n",
        "*Number of clusters with the composition described in the row\n",
        "*For example, there are 81 clusters containing at least one transcript from all 4 sources\n"
       ]
      },
      {
       "html": [
        "<table style='font-size:12px'><tr style='font-weight:bold'><td style='padding:4px 15px 4px 15px;border-color:white;text-align:center'>Pearson</td><td style='padding:4px 15px 4px 15px;border-color:white;text-align:center'>Graveley</td><td style='padding:4px 15px 4px 15px;border-color:white;text-align:center'>Rajewsky</td><td style='padding:4px 15px 4px 15px;border-color:white;text-align:center'>Aboobaker</td><td style='padding:4px 15px 4px 15px;border-color:white;text-align:center'>Number of clusters</td></tr><tr style='background:#E8E8E8'><td style='padding:4px 15px 4px 15px;border-color:#B0B0B0;text-align:center'>X</td><td style='padding:4px 15px 4px 15px;border-color:#B0B0B0;text-align:center'>-</td><td style='padding:4px 15px 4px 15px;border-color:#B0B0B0;text-align:center'>X</td><td style='padding:4px 15px 4px 15px;border-color:#B0B0B0;text-align:center'>-</td><td style='padding:4px 15px 4px 15px;border-color:#B0B0B0;text-align:center'>698</td></tr><tr style='background:white'><td style='padding:4px 15px 4px 15px;border-color:#B0B0B0;text-align:center'>-</td><td style='padding:4px 15px 4px 15px;border-color:#B0B0B0;text-align:center'>X</td><td style='padding:4px 15px 4px 15px;border-color:#B0B0B0;text-align:center'>X</td><td style='padding:4px 15px 4px 15px;border-color:#B0B0B0;text-align:center'>-</td><td style='padding:4px 15px 4px 15px;border-color:#B0B0B0;text-align:center'>661</td></tr><tr style='background:#E8E8E8'><td style='padding:4px 15px 4px 15px;border-color:#B0B0B0;text-align:center'>-</td><td style='padding:4px 15px 4px 15px;border-color:#B0B0B0;text-align:center'>-</td><td style='padding:4px 15px 4px 15px;border-color:#B0B0B0;text-align:center'>X</td><td style='padding:4px 15px 4px 15px;border-color:#B0B0B0;text-align:center'>-</td><td style='padding:4px 15px 4px 15px;border-color:#B0B0B0;text-align:center'>321</td></tr><tr style='background:white'><td style='padding:4px 15px 4px 15px;border-color:#B0B0B0;text-align:center'>X</td><td style='padding:4px 15px 4px 15px;border-color:#B0B0B0;text-align:center'>-</td><td style='padding:4px 15px 4px 15px;border-color:#B0B0B0;text-align:center'>X</td><td style='padding:4px 15px 4px 15px;border-color:#B0B0B0;text-align:center'>X</td><td style='padding:4px 15px 4px 15px;border-color:#B0B0B0;text-align:center'>212</td></tr><tr style='background:#E8E8E8'><td style='padding:4px 15px 4px 15px;border-color:#B0B0B0;text-align:center'>X</td><td style='padding:4px 15px 4px 15px;border-color:#B0B0B0;text-align:center'>X</td><td style='padding:4px 15px 4px 15px;border-color:#B0B0B0;text-align:center'>X</td><td style='padding:4px 15px 4px 15px;border-color:#B0B0B0;text-align:center'>-</td><td style='padding:4px 15px 4px 15px;border-color:#B0B0B0;text-align:center'>170</td></tr><tr style='background:white'><td style='padding:4px 15px 4px 15px;border-color:#B0B0B0;text-align:center'>-</td><td style='padding:4px 15px 4px 15px;border-color:#B0B0B0;text-align:center'>-</td><td style='padding:4px 15px 4px 15px;border-color:#B0B0B0;text-align:center'>X</td><td style='padding:4px 15px 4px 15px;border-color:#B0B0B0;text-align:center'>X</td><td style='padding:4px 15px 4px 15px;border-color:#B0B0B0;text-align:center'>131</td></tr><tr style='background:#E8E8E8'><td style='padding:4px 15px 4px 15px;border-color:#B0B0B0;text-align:center'>-</td><td style='padding:4px 15px 4px 15px;border-color:#B0B0B0;text-align:center'>X</td><td style='padding:4px 15px 4px 15px;border-color:#B0B0B0;text-align:center'>-</td><td style='padding:4px 15px 4px 15px;border-color:#B0B0B0;text-align:center'>-</td><td style='padding:4px 15px 4px 15px;border-color:#B0B0B0;text-align:center'>105</td></tr><tr style='background:white'><td style='padding:4px 15px 4px 15px;border-color:#B0B0B0;text-align:center'>X</td><td style='padding:4px 15px 4px 15px;border-color:#B0B0B0;text-align:center'>X</td><td style='padding:4px 15px 4px 15px;border-color:#B0B0B0;text-align:center'>X</td><td style='padding:4px 15px 4px 15px;border-color:#B0B0B0;text-align:center'>X</td><td style='padding:4px 15px 4px 15px;border-color:#B0B0B0;text-align:center'>81</td></tr><tr style='background:#E8E8E8'><td style='padding:4px 15px 4px 15px;border-color:#B0B0B0;text-align:center'>X</td><td style='padding:4px 15px 4px 15px;border-color:#B0B0B0;text-align:center'>X</td><td style='padding:4px 15px 4px 15px;border-color:#B0B0B0;text-align:center'>-</td><td style='padding:4px 15px 4px 15px;border-color:#B0B0B0;text-align:center'>-</td><td style='padding:4px 15px 4px 15px;border-color:#B0B0B0;text-align:center'>63</td></tr><tr style='background:white'><td style='padding:4px 15px 4px 15px;border-color:#B0B0B0;text-align:center'>-</td><td style='padding:4px 15px 4px 15px;border-color:#B0B0B0;text-align:center'>X</td><td style='padding:4px 15px 4px 15px;border-color:#B0B0B0;text-align:center'>X</td><td style='padding:4px 15px 4px 15px;border-color:#B0B0B0;text-align:center'>X</td><td style='padding:4px 15px 4px 15px;border-color:#B0B0B0;text-align:center'>57</td></tr><tr style='background:#E8E8E8'><td style='padding:4px 15px 4px 15px;border-color:#B0B0B0;text-align:center'>-</td><td style='padding:4px 15px 4px 15px;border-color:#B0B0B0;text-align:center'>X</td><td style='padding:4px 15px 4px 15px;border-color:#B0B0B0;text-align:center'>-</td><td style='padding:4px 15px 4px 15px;border-color:#B0B0B0;text-align:center'>X</td><td style='padding:4px 15px 4px 15px;border-color:#B0B0B0;text-align:center'>34</td></tr><tr style='background:white'><td style='padding:4px 15px 4px 15px;border-color:#B0B0B0;text-align:center'>X</td><td style='padding:4px 15px 4px 15px;border-color:#B0B0B0;text-align:center'>-</td><td style='padding:4px 15px 4px 15px;border-color:#B0B0B0;text-align:center'>-</td><td style='padding:4px 15px 4px 15px;border-color:#B0B0B0;text-align:center'>X</td><td style='padding:4px 15px 4px 15px;border-color:#B0B0B0;text-align:center'>30</td></tr><tr style='background:#E8E8E8'><td style='padding:4px 15px 4px 15px;border-color:#B0B0B0;text-align:center'>X</td><td style='padding:4px 15px 4px 15px;border-color:#B0B0B0;text-align:center'>X</td><td style='padding:4px 15px 4px 15px;border-color:#B0B0B0;text-align:center'>-</td><td style='padding:4px 15px 4px 15px;border-color:#B0B0B0;text-align:center'>X</td><td style='padding:4px 15px 4px 15px;border-color:#B0B0B0;text-align:center'>10</td></tr><tr style='background:white'><td style='padding:4px 15px 4px 15px;border-color:#B0B0B0;text-align:center'>X</td><td style='padding:4px 15px 4px 15px;border-color:#B0B0B0;text-align:center'>-</td><td style='padding:4px 15px 4px 15px;border-color:#B0B0B0;text-align:center'>-</td><td style='padding:4px 15px 4px 15px;border-color:#B0B0B0;text-align:center'>-</td><td style='padding:4px 15px 4px 15px;border-color:#B0B0B0;text-align:center'>4</td></tr></table>"
       ],
       "metadata": {},
       "output_type": "pyout",
       "prompt_number": 98,
       "text": [
        "[['Pearson', 'Graveley', 'Rajewsky', 'Aboobaker', 'Number of clusters'],\n",
        " ['X', '-', 'X', '-', 698],\n",
        " ['-', 'X', 'X', '-', 661],\n",
        " ['-', '-', 'X', '-', 321],\n",
        " ['X', '-', 'X', 'X', 212],\n",
        " ['X', 'X', 'X', '-', 170],\n",
        " ['-', '-', 'X', 'X', 131],\n",
        " ['-', 'X', '-', '-', 105],\n",
        " ['X', 'X', 'X', 'X', 81],\n",
        " ['X', 'X', '-', '-', 63],\n",
        " ['-', 'X', 'X', 'X', 57],\n",
        " ['-', 'X', '-', 'X', 34],\n",
        " ['X', '-', '-', 'X', 30],\n",
        " ['X', 'X', '-', 'X', 10],\n",
        " ['X', '-', '-', '-', 4]]"
       ]
      }
     ],
     "prompt_number": 98
    },
    {
     "cell_type": "code",
     "collapsed": false,
     "input": [
      "import pandas as pd\n",
      "import seaborn as sns\n",
      "import matplotlib.pyplot as plt\n",
      "\n",
      "%matplotlib inline\n",
      "\n",
      "sourceCluster = defaultdict(int)\n",
      "for combo, count in clusterCount:\n",
      "    if len(combo) > 1:\n",
      "        for item in combo:\n",
      "            sourceCluster[item] += count\n",
      "\n",
      "df = pd.concat([pd.Series(sources),pd.Series(sourceCluster)],axis=1)\n",
      "df.columns = ['Number of neoblast transcripts','Number of neoblast transcripts clustered']\n",
      "df.plot(kind='bar',figsize=[12,6])"
     ],
     "language": "python",
     "metadata": {},
     "outputs": [
      {
       "metadata": {},
       "output_type": "pyout",
       "prompt_number": 141,
       "text": [
        "<matplotlib.axes.AxesSubplot at 0x8abc210>"
       ]
      },
      {
       "metadata": {},
       "output_type": "display_data",
       "png": "[encoded data removed]",
       "text": [
        "<matplotlib.figure.Figure at 0x8bfc710>"
       ]
      }
     ],
     "prompt_number": 141
    },
    {
     "cell_type": "code",
     "collapsed": false,
     "input": [
      "usedTable = ListTable()\n",
      "usedTable.append(['Source','Number of neoblast transcripts','Number of transcripts clustered','% clustered'])\n",
      "for c in comboHeader:\n",
      "    usedTable.append([c,commas(sources[c]),commas(used[c]),str(float(used[c]) / sources[c] * 100)[:4]])\n",
      "    \n",
      "usedTable"
     ],
     "language": "python",
     "metadata": {},
     "outputs": [
      {
       "html": [
        "<table style='font-size:12px'><tr style='font-weight:bold'><td style='padding:4px 15px 4px 15px;border-color:white;text-align:center'>Source</td><td style='padding:4px 15px 4px 15px;border-color:white;text-align:center'>Number of neoblast transcripts</td><td style='padding:4px 15px 4px 15px;border-color:white;text-align:center'>Number of transcripts clustered</td><td style='padding:4px 15px 4px 15px;border-color:white;text-align:center'>% clustered</td></tr><tr style='background:#E8E8E8'><td style='padding:4px 15px 4px 15px;border-color:#B0B0B0;text-align:center'>Pearson</td><td style='padding:4px 15px 4px 15px;border-color:#B0B0B0;text-align:center'>2,147</td><td style='padding:4px 15px 4px 15px;border-color:#B0B0B0;text-align:center'>1,383</td><td style='padding:4px 15px 4px 15px;border-color:#B0B0B0;text-align:center'>64.4</td></tr><tr style='background:white'><td style='padding:4px 15px 4px 15px;border-color:#B0B0B0;text-align:center'>Graveley</td><td style='padding:4px 15px 4px 15px;border-color:#B0B0B0;text-align:center'>4,056</td><td style='padding:4px 15px 4px 15px;border-color:#B0B0B0;text-align:center'>1,460</td><td style='padding:4px 15px 4px 15px;border-color:#B0B0B0;text-align:center'>35.9</td></tr><tr style='background:#E8E8E8'><td style='padding:4px 15px 4px 15px;border-color:#B0B0B0;text-align:center'>Rajewsky</td><td style='padding:4px 15px 4px 15px;border-color:#B0B0B0;text-align:center'>7,696</td><td style='padding:4px 15px 4px 15px;border-color:#B0B0B0;text-align:center'>3,172</td><td style='padding:4px 15px 4px 15px;border-color:#B0B0B0;text-align:center'>41.2</td></tr><tr style='background:white'><td style='padding:4px 15px 4px 15px;border-color:#B0B0B0;text-align:center'>Aboobaker</td><td style='padding:4px 15px 4px 15px;border-color:#B0B0B0;text-align:center'>823</td><td style='padding:4px 15px 4px 15px;border-color:#B0B0B0;text-align:center'>575</td><td style='padding:4px 15px 4px 15px;border-color:#B0B0B0;text-align:center'>69.8</td></tr></table>"
       ],
       "metadata": {},
       "output_type": "pyout",
       "prompt_number": 64,
       "text": [
        "[['Source',\n",
        "  'Number of neoblast transcripts',\n",
        "  'Number of transcripts clustered',\n",
        "  '% clustered'],\n",
        " ['Pearson', '2,147', '1,383', '64.4'],\n",
        " ['Graveley', '4,056', '1,460', '35.9'],\n",
        " ['Rajewsky', '7,696', '3,172', '41.2'],\n",
        " ['Aboobaker', '823', '575', '69.8']]"
       ]
      }
     ],
     "prompt_number": 64
    }
   ],
   "metadata": {}
  }
 ]
}